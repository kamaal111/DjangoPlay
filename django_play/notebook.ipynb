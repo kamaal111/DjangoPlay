{
 "cells": [
  {
   "cell_type": "code",
   "execution_count": 1,
   "metadata": {},
   "outputs": [],
   "source": [
    "import os\n",
    "\n",
    "import django\n",
    "\n",
    "os.environ.setdefault(\"DJANGO_SETTINGS_MODULE\", \"django_play.settings\")\n",
    "os.environ[\"DJANGO_ALLOW_ASYNC_UNSAFE\"] = \"true\"\n",
    "django.setup()"
   ]
  },
  {
   "cell_type": "code",
   "execution_count": 2,
   "metadata": {},
   "outputs": [
    {
     "name": "stdout",
     "output_type": "stream",
     "text": [
      "(statement % tuple(corrected_params)).__str__() SELECT \"blogs_blog\".\"id\", \"blogs_blog\".\"user_id\", \"blogs_blog\".\"title\", \"blogs_blog\".\"content\", \"blogs_blog\".\"is_draft\", \"blogs_blog\".\"date_published\", \"blogs_blog\".\"date_edited\" FROM \"blogs_blog\" WHERE (\"blogs_blog\".\"date_published\" BETWEEN '2024-01-01T00:00:00+00:00' AND '2024-12-31T23:59:59.999999+00:00' AND NOT \"blogs_blog\".\"is_draft\" AND \"blogs_blog\".\"title\" = 'First' AND \"blogs_blog\".\"user_id\" = 1)\n"
     ]
    },
    {
     "data": {
      "text/html": [
       "<div><style>\n",
       ".dataframe > thead > tr,\n",
       ".dataframe > tbody > tr {\n",
       "  text-align: right;\n",
       "  white-space: pre-wrap;\n",
       "}\n",
       "</style>\n",
       "<small>shape: (6, 7)</small><table border=\"1\" class=\"dataframe\"><thead><tr><th>id</th><th>user_id</th><th>title</th><th>content</th><th>is_draft</th><th>date_published</th><th>date_edited</th></tr><tr><td>i64</td><td>i64</td><td>str</td><td>str</td><td>bool</td><td>datetime[μs]</td><td>datetime[μs]</td></tr></thead><tbody><tr><td>1</td><td>1</td><td>&quot;First&quot;</td><td>&quot;#Content&quot;</td><td>false</td><td>2024-10-13 15:13:47</td><td>2024-10-13 15:13:47</td></tr><tr><td>2</td><td>1</td><td>&quot;First&quot;</td><td>&quot;#Content&quot;</td><td>false</td><td>2024-10-13 15:13:47</td><td>2024-10-13 15:13:47</td></tr><tr><td>11</td><td>1</td><td>&quot;First&quot;</td><td>&quot;#Content&quot;</td><td>false</td><td>2024-10-13 15:13:47</td><td>2024-10-13 15:13:47</td></tr><tr><td>12</td><td>1</td><td>&quot;First&quot;</td><td>&quot;#Content&quot;</td><td>false</td><td>2024-10-13 15:13:47</td><td>2024-10-13 15:13:47</td></tr><tr><td>13</td><td>1</td><td>&quot;First&quot;</td><td>&quot;#Content&quot;</td><td>false</td><td>2024-10-13 15:13:47</td><td>2024-10-13 15:13:47</td></tr><tr><td>14</td><td>1</td><td>&quot;First&quot;</td><td>&quot;#Content&quot;</td><td>false</td><td>2024-10-13 15:13:47</td><td>2024-10-13 15:13:47</td></tr></tbody></table></div>"
      ],
      "text/plain": [
       "shape: (6, 7)\n",
       "┌─────┬─────────┬───────┬──────────┬──────────┬─────────────────────┬─────────────────────┐\n",
       "│ id  ┆ user_id ┆ title ┆ content  ┆ is_draft ┆ date_published      ┆ date_edited         │\n",
       "│ --- ┆ ---     ┆ ---   ┆ ---      ┆ ---      ┆ ---                 ┆ ---                 │\n",
       "│ i64 ┆ i64     ┆ str   ┆ str      ┆ bool     ┆ datetime[μs]        ┆ datetime[μs]        │\n",
       "╞═════╪═════════╪═══════╪══════════╪══════════╪═════════════════════╪═════════════════════╡\n",
       "│ 1   ┆ 1       ┆ First ┆ #Content ┆ false    ┆ 2024-10-13 15:13:47 ┆ 2024-10-13 15:13:47 │\n",
       "│ 2   ┆ 1       ┆ First ┆ #Content ┆ false    ┆ 2024-10-13 15:13:47 ┆ 2024-10-13 15:13:47 │\n",
       "│ 11  ┆ 1       ┆ First ┆ #Content ┆ false    ┆ 2024-10-13 15:13:47 ┆ 2024-10-13 15:13:47 │\n",
       "│ 12  ┆ 1       ┆ First ┆ #Content ┆ false    ┆ 2024-10-13 15:13:47 ┆ 2024-10-13 15:13:47 │\n",
       "│ 13  ┆ 1       ┆ First ┆ #Content ┆ false    ┆ 2024-10-13 15:13:47 ┆ 2024-10-13 15:13:47 │\n",
       "│ 14  ┆ 1       ┆ First ┆ #Content ┆ false    ┆ 2024-10-13 15:13:47 ┆ 2024-10-13 15:13:47 │\n",
       "└─────┴─────────┴───────┴──────────┴──────────┴─────────────────────┴─────────────────────┘"
      ]
     },
     "execution_count": 2,
     "metadata": {},
     "output_type": "execute_result"
    }
   ],
   "source": [
    "from datetime import date\n",
    "\n",
    "from django.contrib.auth.models import User\n",
    "\n",
    "from django_play.blogs.models import Blog\n",
    "\n",
    "today = date.today()\n",
    "\n",
    "user = User.objects.get(id=1)\n",
    "Blog.objects.all().filter(\n",
    "    title=\"First\", is_draft=False, date_published__year=today.year, user=user\n",
    ").to_polars()"
   ]
  }
 ],
 "metadata": {
  "kernelspec": {
   "display_name": ".venv",
   "language": "python",
   "name": "python3"
  },
  "language_info": {
   "codemirror_mode": {
    "name": "ipython",
    "version": 3
   },
   "file_extension": ".py",
   "mimetype": "text/x-python",
   "name": "python",
   "nbconvert_exporter": "python",
   "pygments_lexer": "ipython3",
   "version": "3.12.6"
  }
 },
 "nbformat": 4,
 "nbformat_minor": 2
}
