{
 "cells": [
  {
   "cell_type": "code",
   "execution_count": 1,
   "metadata": {},
   "outputs": [],
   "source": [
    "import os\n",
    "\n",
    "import django\n",
    "\n",
    "os.environ.setdefault(\"DJANGO_SETTINGS_MODULE\", \"django_play.settings\")\n",
    "os.environ[\"DJANGO_ALLOW_ASYNC_UNSAFE\"] = \"true\"\n",
    "django.setup()"
   ]
  },
  {
   "cell_type": "code",
   "execution_count": 2,
   "metadata": {},
   "outputs": [],
   "source": [
    "from datetime import date\n",
    "\n",
    "from django.contrib.auth.models import User\n",
    "\n",
    "from django_play.blogs.models import Blog"
   ]
  },
  {
   "cell_type": "code",
   "execution_count": 3,
   "metadata": {},
   "outputs": [
    {
     "data": {
      "text/html": [
       "<div><style>\n",
       ".dataframe > thead > tr,\n",
       ".dataframe > tbody > tr {\n",
       "  text-align: right;\n",
       "  white-space: pre-wrap;\n",
       "}\n",
       "</style>\n",
       "<small>shape: (6, 2)</small><table border=\"1\" class=\"dataframe\"><thead><tr><th>user_id</th><th>title</th></tr><tr><td>i64</td><td>str</td></tr></thead><tbody><tr><td>1</td><td>&quot;First&quot;</td></tr><tr><td>1</td><td>&quot;First&quot;</td></tr><tr><td>1</td><td>&quot;First&quot;</td></tr><tr><td>1</td><td>&quot;First&quot;</td></tr><tr><td>1</td><td>&quot;First&quot;</td></tr><tr><td>1</td><td>&quot;First&quot;</td></tr></tbody></table></div>"
      ],
      "text/plain": [
       "shape: (6, 2)\n",
       "┌─────────┬───────┐\n",
       "│ user_id ┆ title │\n",
       "│ ---     ┆ ---   │\n",
       "│ i64     ┆ str   │\n",
       "╞═════════╪═══════╡\n",
       "│ 1       ┆ First │\n",
       "│ 1       ┆ First │\n",
       "│ 1       ┆ First │\n",
       "│ 1       ┆ First │\n",
       "│ 1       ┆ First │\n",
       "│ 1       ┆ First │\n",
       "└─────────┴───────┘"
      ]
     },
     "execution_count": 3,
     "metadata": {},
     "output_type": "execute_result"
    }
   ],
   "source": [
    "today = date.today()\n",
    "\n",
    "user = User.objects.get(id=1)\n",
    "Blog.objects.all().filter(\n",
    "    title=\"First\", is_draft=False, date_published__year=today.year, user=user\n",
    ").values(\"user_id\", \"title\").to_narwhals_from_polars().to_native()"
   ]
  }
 ],
 "metadata": {
  "kernelspec": {
   "display_name": ".venv",
   "language": "python",
   "name": "python3"
  },
  "language_info": {
   "codemirror_mode": {
    "name": "ipython",
    "version": 3
   },
   "file_extension": ".py",
   "mimetype": "text/x-python",
   "name": "python",
   "nbconvert_exporter": "python",
   "pygments_lexer": "ipython3",
   "version": "3.12.6"
  }
 },
 "nbformat": 4,
 "nbformat_minor": 2
}
